{
  "nbformat": 4,
  "nbformat_minor": 0,
  "metadata": {
    "colab": {
      "provenance": [],
      "authorship_tag": "ABX9TyPaKSvaTgKUOfXEFULFejp8",
      "include_colab_link": true
    },
    "kernelspec": {
      "name": "python3",
      "display_name": "Python 3"
    },
    "language_info": {
      "name": "python"
    }
  },
  "cells": [
    {
      "cell_type": "markdown",
      "metadata": {
        "id": "view-in-github",
        "colab_type": "text"
      },
      "source": [
        "<a href=\"https://colab.research.google.com/github/Pratiksh22/HTML-ESSENTIAL/blob/main/module_5assignment.ipynb\" target=\"_parent\"><img src=\"https://colab.research.google.com/assets/colab-badge.svg\" alt=\"Open In Colab\"/></a>"
      ]
    },
    {
      "cell_type": "code",
      "execution_count": null,
      "metadata": {
        "id": "FjbKmJWVyeVB"
      },
      "outputs": [],
      "source": []
    },
    {
      "cell_type": "markdown",
      "source": [
        "1.\t **List out the features of HTML5.**\n",
        "-->Semantic Elements.\n",
        "Audio and Video Support.\n",
        "Canvas Elements.\n",
        "Geolocation API.\n",
        "Local Storage.\n",
        "Responsive Images.\n",
        "Web Workers.\n",
        "\n",
        "2.\t **What are HTML entities? List out five commonly used HTML entities.**\n",
        "-->HTML entities are special character codes used in HTML to represent characters that are either reserved or not easily represented on standard keyboards. They are represented by an ampersand (&), a character name or number, and a semicolon (;).\n",
        "Symbols\tDescription\tEntity name\n",
        "<\tless than\t&lt;\n",
        ">\tgreater than\t&gt;\n",
        "“\tdouble quotation mark\t&quot;\n",
        "&\tampersand\t&amp;\n",
        "‘\tdouble quotation mark\t&apos;\n",
        "\n",
        "3.\t**Define accessibility in the context of web development. Discuss why its essential to create accessible website and how it benefits different users’ groups.**\n",
        "-->In web development, accessibility means designing and developing websites that can be perceived, operated, understood, and robustly used by people with a wide range of disabilities. It's crucial to make websites accessible because it improves usability for all users, expands audience reach, supports legal compliance, and reflects a commitment to inclusive, user-centered design.\n",
        "•\tBenefits for Different User Groups:\n",
        "•\tPeople with Disabilities: Accessibility provides crucial access to information and services for individuals with visual, auditory, motor, and cognitive impairments.\n",
        "•\tOlder Users: Accessibility features like larger fonts, clear contrast, and keyboard navigation can benefit older users with visual or motor impairments.\n",
        "•\tUsers with Temporary Disabilities: Accessibility can help users with temporary impairments, such as those recovering from injuries or surgery, to access and use websites.\n",
        "•\tUsers with Slow Internet Speeds: Accessible websites often have better performance on slow connections because they use less complex code and smaller files.\n",
        "•\tUsers with Cognitive or Learning Disabilities: Clear language, consistent layouts, and predictable navigation can make websites easier to understand for users with cognitive or learning disabilities.\n",
        "•\tAll Users: Accessible websites are often easier to use and more user-friendly for all users, regardless of their abilities.\n",
        "\n",
        "4.\t**List any three ways which help us in improving the accessibility of HTML.**\n",
        "-->Three key ways to improve HTML accessibility:\n",
        "1.\tSemantic HTML\n",
        "2.\tKeyboard Accessibility\n",
        "3.\tAlternative Text for Images\n"
      ],
      "metadata": {
        "id": "TpCIEzk4yfRa"
      }
    },
    {
      "cell_type": "markdown",
      "source": [
        "5.\t**Create a web page that highlights the features of HTML5.Use appropriate semantic tags to structure the content and showcase at least three key features of HTML5 with explanation.**"
      ],
      "metadata": {
        "id": "kStqjxXsy4xJ"
      }
    },
    {
      "cell_type": "code",
      "source": [
        "<!DOCTYPE html>\n",
        "<html>\n",
        "<head>\n",
        "    <meta charset=\"UTF-8\" />\n",
        "    <title>title</title>\n",
        "</head>\n",
        "<body>\n",
        "    <h1 align=\"center\">Features of html5</h1>\n",
        "     <hr>\n",
        "     <h2>What is HTML 5?</h2>\n",
        "     <p><i>HTML 5 is a sequel to HTML 4 and has never seen such a big update ever before. Moreover, HTML5 has emphasized its support for responsiveness, graphics, and rendering multimedia elements without having to rely upon any external content player like Adobe Flash Player.</i></p>\n",
        "     <br>\n",
        "     <h2>Understanding HTML 5</h2>\n",
        "     <p>HTML 5 gained a tremendous amount of popularity due to the fact that it is even more capable of creating interactive and dynamic web pages. The latest release of HTML, the 5th version, provides developers with greater flexibility in designing web applications while relying less on third-party services, allowing HTML 5 features to reach their full potential.\n",
        "\n",
        "There are several very essential reasons why HTML 5 is vital. Compared to earlier editions, it offers additional functions for you to use. More power than ever over the webpage, it offers a better user experience, cross-device compatibility, SEO, and offline storage. Additionally, it has significantly decreased the need for plugins to play multimedia files like photographs, videos, and audio.</p>\n",
        "<br>\n",
        "<h1>Top 4 Features of HTML5 </h1>\n",
        "<ol type=\"1\">\n",
        "    <li>Semantic Elements</li>\n",
        "    <li>Audio and Video Support</li>\n",
        "    <li>Canvas Elements</li>\n",
        "    <li>Geolocation API</li>\n",
        "</ol>\n",
        "<h2>Semantic Elements</h2>\n",
        "<p>When constructing an HTML script, the term “semantic” refers to the meaning of the text. Semantics, to put it simply, is the use of HTML tags that accurately reflect the content they contain. For instance, using the <div> tag doesn’t suggest the content it will carry, however using the <p> tag suggests it can be used to hold paragraph information.</p>\n",
        "\n",
        "<p>There are a lot of reasons why you should write Semantic tags instead of normal HTML tags, to leverage SEO, accessibility, and browser compatibility.</p>\n",
        "<br>\n",
        "<h2>Audio and Video Support</h2>\n",
        "<p>One of the many HTML 5 features is the support for audio and video. It has reduced the hassle of relying upon third-party services such as Adobe Flash player. To embed Audio and Video into your HTML document, you may use the following two tags, <audio> and <video> tags.</p>\n",
        "<p>These two tags are launched with the release of HTML 5 and support a numerous range of attributes such as height, width, and more that offers developers to leverage the customization of HTML documents.</p>\n",
        "<br>\n",
        "<h2>Canvas Elements</h2>\n",
        "<p>Canvas Elements is a top-notch feature that has made the tedious task of handling graphics easier for developers. With the help of Canvas elements, you can easily draw graphics using JavaScript. It is optimum for creating simple animations and drawing photo compositions.</p>\n",
        "<p>To initialize the Canvas element  tag is used with only two specific attributes, width and height. Once, the element is initialized, it is then taken care of with the help of JavaScript to draw shapes, lines, images, and more.</p>\n",
        "<br>\n",
        "<h2>Geolocation API</h2>\n",
        "<p>The Geolocation API is an HTML feature that is used to access the geographical position of a user, however, it is not accessed unless the user approves of it. If you’re wondering where this feature is useful, these come in handy while creating apps like taxi apps, food order tracking apps, fitness tracking apps, and more.</p>\n",
        "<p>The location is achieved in a way that a user sends their longitude and latitude and this data is sent to the backend server, after which we access that data to create all these fancy applications.\n",
        "</p>\n",
        "<br>\n",
        "\n",
        "\n",
        "</body>\n",
        "</html>"
      ],
      "metadata": {
        "id": "k0p3Q6Fgy8tr"
      },
      "execution_count": null,
      "outputs": []
    },
    {
      "cell_type": "markdown",
      "source": [
        "6.\t**Create a simple webpage which has a table the table must have two columns HTML5 and HTML. The table should include a minimum of three rows describing the difference between HTML an HTML5.**"
      ],
      "metadata": {
        "id": "5BPOIs6rzAZQ"
      }
    },
    {
      "cell_type": "code",
      "source": [
        "<!DOCTYPE html>\n",
        "<html>\n",
        "<head>\n",
        "    <meta charset=\"UTF-8\" />\n",
        "    <style>\n",
        "        th{\n",
        "            font-size: 46px;\n",
        "        }\n",
        "        td{\n",
        "            font-size: 36px;\n",
        "        }\n",
        "        </style>\n",
        "    <title>title</title>\n",
        "</head>\n",
        "<body bgcolor=\"yellow\" align=\"center\">\n",
        "\n",
        "    <h1>Features of HTML and HTML5</h1>\n",
        "    <table align=\"center\" border=\"2px\">\n",
        "        <tr>\n",
        "            <th>HTML</th>\n",
        "            <th>HTML5</th>\n",
        "        </tr>\n",
        "        <tr>\n",
        "            <td>HTML does not provide native audio and video support.</td>\n",
        "            <td>HTML5  provide native audio and video support.</td>\n",
        "        </tr>\n",
        "        <tr>\n",
        "            <td>HTML only support vector graphics if used in conjunction with different technologies like FLASH, VML OR SILVERLIGHT.</td>\n",
        "            <td>HTML5 supports SVG (Scalable Vector Graphics), Canvas, and other virtual vector graphics.</td>\n",
        "        </tr>\n",
        "        <tr>\n",
        "            <td>Longer chahracter encoding declaration. Uses the ASCII charcter set.</td>\n",
        "            <td>Shorter character encoding declaration. Uses the UTF-8 charcterset.</td>\n",
        "        </tr>\n",
        "\n",
        "        </table>\n",
        "</body>\n",
        "</html>"
      ],
      "metadata": {
        "id": "1lFLPBrwzFOt"
      },
      "execution_count": null,
      "outputs": []
    }
  ]
}